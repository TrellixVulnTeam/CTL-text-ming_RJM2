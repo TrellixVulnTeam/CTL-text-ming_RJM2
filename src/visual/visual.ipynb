{
 "cells": [
  {
   "cell_type": "code",
   "execution_count": 6,
   "metadata": {},
   "outputs": [],
   "source": [
    "import plotly.plotly as py\n",
    "import plotly.graph_objs as go\n",
    "import numpy as np"
   ]
  },
  {
   "cell_type": "code",
   "execution_count": 12,
   "metadata": {},
   "outputs": [],
   "source": [
    "import plotly\n",
    "plotly.tools.set_credentials_file(username='Pin-JieLin', api_key='fCb0dNth3OFfjwNEaXWW')"
   ]
  },
  {
   "cell_type": "code",
   "execution_count": 42,
   "metadata": {},
   "outputs": [
    {
     "data": {
      "text/plain": [
       "[-2,\n",
       " 0,\n",
       " 0,\n",
       " -2,\n",
       " -1,\n",
       " 0,\n",
       " -1,\n",
       " -1,\n",
       " -4,\n",
       " -5,\n",
       " 1,\n",
       " 0,\n",
       " 0,\n",
       " 1,\n",
       " 1,\n",
       " -4,\n",
       " -2,\n",
       " -4,\n",
       " -1,\n",
       " -4,\n",
       " 0,\n",
       " 0,\n",
       " -1,\n",
       " -5,\n",
       " -4,\n",
       " 1,\n",
       " -1,\n",
       " -3,\n",
       " -1,\n",
       " -1,\n",
       " -1,\n",
       " -2,\n",
       " -1,\n",
       " -9,\n",
       " -2,\n",
       " 0,\n",
       " -2,\n",
       " -3,\n",
       " -5,\n",
       " -1,\n",
       " 0,\n",
       " -1,\n",
       " -1,\n",
       " 0,\n",
       " -1,\n",
       " 0,\n",
       " -3,\n",
       " -4,\n",
       " -1,\n",
       " -5,\n",
       " -1,\n",
       " -1,\n",
       " -3,\n",
       " -1,\n",
       " -4,\n",
       " -2,\n",
       " 0,\n",
       " -2,\n",
       " -1,\n",
       " 1,\n",
       " -4,\n",
       " 0,\n",
       " 0,\n",
       " -1,\n",
       " -1,\n",
       " -4,\n",
       " -3,\n",
       " 0,\n",
       " -9,\n",
       " -2,\n",
       " -1,\n",
       " 0,\n",
       " -2,\n",
       " -1,\n",
       " -2,\n",
       " -3,\n",
       " -1,\n",
       " 0,\n",
       " 0,\n",
       " 1,\n",
       " -1,\n",
       " -4,\n",
       " 0,\n",
       " 0,\n",
       " 0,\n",
       " -2,\n",
       " 1,\n",
       " 0,\n",
       " -2,\n",
       " -3,\n",
       " -3,\n",
       " -2,\n",
       " -3,\n",
       " -2,\n",
       " 0,\n",
       " -2,\n",
       " -2,\n",
       " -3,\n",
       " -2,\n",
       " -3,\n",
       " -3,\n",
       " 0,\n",
       " -3,\n",
       " -8,\n",
       " -2,\n",
       " -3,\n",
       " -8]"
      ]
     },
     "execution_count": 42,
     "metadata": {},
     "output_type": "execute_result"
    }
   ],
   "source": [
    "y_array = open('sen_with_value.txt', 'r', encoding='utf-8').read()\n",
    "y_array = [ i.split(',')[0] for i in y_array.split('\\n') if i != '']\n",
    "y_array = [ int(i) for i in y_array if i != '']\n",
    "\n",
    "new_y_array = list()\n",
    "n = 0\n",
    "each_v = 0\n",
    "for v in y_array:\n",
    "    if n < 9:\n",
    "        each_v += v\n",
    "        n += 1\n",
    "    else:\n",
    "        new_y_array.append(each_v)\n",
    "        each_v = 0\n",
    "        n = 0\n",
    "    \n",
    "    \n",
    "n = len(new_y_array)\n",
    "\n",
    "#random_x = np.linspace(0, 1, 1070)\n",
    "new_y_array"
   ]
  },
  {
   "cell_type": "code",
   "execution_count": 35,
   "metadata": {},
   "outputs": [
    {
     "data": {
      "text/html": [
       "<iframe id=\"igraph\" scrolling=\"no\" style=\"border:none;\" seamless=\"seamless\" src=\"https://plot.ly/~Pin-JieLin/4.embed\" height=\"525px\" width=\"100%\"></iframe>"
      ],
      "text/plain": [
       "<plotly.tools.PlotlyDisplay object>"
      ]
     },
     "execution_count": 35,
     "metadata": {},
     "output_type": "execute_result"
    }
   ],
   "source": [
    "# Create traces\n",
    "trace1 = go.Scatter(\n",
    "    x = np.arange(1070),\n",
    "    y = y_array,\n",
    "    mode = 'lines+markers',\n",
    "    name = '情緒值'\n",
    ")\n",
    "\n",
    "data = [ trace1]\n",
    "\n",
    "py.iplot(data, filename='line-mode')"
   ]
  },
  {
   "cell_type": "code",
   "execution_count": 43,
   "metadata": {},
   "outputs": [
    {
     "data": {
      "text/html": [
       "<iframe id=\"igraph\" scrolling=\"no\" style=\"border:none;\" seamless=\"seamless\" src=\"https://plot.ly/~Pin-JieLin/4.embed\" height=\"525px\" width=\"100%\"></iframe>"
      ],
      "text/plain": [
       "<plotly.tools.PlotlyDisplay object>"
      ]
     },
     "execution_count": 43,
     "metadata": {},
     "output_type": "execute_result"
    }
   ],
   "source": [
    "# Create traces\n",
    "trace1 = go.Scatter(\n",
    "    x = np.arange(107),\n",
    "    y = new_y_array,\n",
    "    mode = 'lines+markers',\n",
    "    name = '情緒值'\n",
    ")\n",
    "\n",
    "data = [ trace1]\n",
    "\n",
    "py.iplot(data, filename='line-mode')"
   ]
  },
  {
   "cell_type": "code",
   "execution_count": null,
   "metadata": {},
   "outputs": [],
   "source": [
    "import plotly.plotly as py\n",
    "import plotly.graph_objs as go\n",
    "\n",
    "data = [\n",
    "    go.Bar(\n",
    "        x = np.arange(1070),\n",
    "        y = y_array,\n",
    "        base = [-500,-600,-700],\n",
    "        marker = dict(\n",
    "          color = 'red'\n",
    "        ),\n",
    "        name = 'expenses'\n",
    "    ),\n",
    "    go.Bar(\n",
    "        x = ['2016','2017','2018'],\n",
    "        y = [300,400,700],\n",
    "        base = 0,\n",
    "        marker = dict(\n",
    "          color = 'blue'\n",
    "        ),\n",
    "        name = 'revenue'\n",
    "    )\n",
    "]\n",
    "\n",
    "\n",
    "fig = go.Figure(data=data)\n",
    "py.iplot(fig, filename='base-bar')"
   ]
  }
 ],
 "metadata": {
  "kernelspec": {
   "display_name": "Python 3",
   "language": "python",
   "name": "python3"
  },
  "language_info": {
   "codemirror_mode": {
    "name": "ipython",
    "version": 3
   },
   "file_extension": ".py",
   "mimetype": "text/x-python",
   "name": "python",
   "nbconvert_exporter": "python",
   "pygments_lexer": "ipython3",
   "version": "3.6.4"
  }
 },
 "nbformat": 4,
 "nbformat_minor": 2
}
